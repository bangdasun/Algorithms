{
 "cells": [
  {
   "cell_type": "markdown",
   "metadata": {
    "collapsed": true
   },
   "source": [
    "This scripts is revised from\n",
    "  https://machinelearningmastery.com/implement-decision-tree-algorithm-scratch-python/\n",
    "\n",
    "where this post implemented a classification tree, here I revised it as regression tree. Compared with the implementation did by myself, this script's design of \"node\" is better, also the author has a better implementation of recursive programming. And actually this is an example of Depth-First-Search (DFS)."
   ]
  },
  {
   "cell_type": "code",
   "execution_count": 1,
   "metadata": {
    "collapsed": true
   },
   "outputs": [],
   "source": [
    "import os\n",
    "import numpy as np\n",
    "import pandas as pd"
   ]
  },
  {
   "cell_type": "code",
   "execution_count": 2,
   "metadata": {
    "collapsed": true
   },
   "outputs": [],
   "source": [
    "def squared_loss(y, left, right):\n",
    "    \"\"\"\n",
    "    calculate squared loss for a split\n",
    "    \"\"\"\n",
    "    return np.sum((y[left] - np.mean(y[left])) ** 2) + np.sum((y[right] - np.mean(y[right])) ** 2)\n",
    "\n",
    "def split_feature(X, y, feature_idx, split):\n",
    "    \"\"\"\n",
    "    split a data set on an attribute and an attribute value\n",
    "    \"\"\"\n",
    "    left, right = list(), list()\n",
    "    for row_idx in range(X.shape[0]):\n",
    "        if X[row_idx, feature_idx] < split:\n",
    "            left.append(row_idx)\n",
    "        else:\n",
    "            right.append(row_idx)\n",
    "    \n",
    "    return left, right\n",
    "\n",
    "def get_optim_split(X, y):\n",
    "    \"\"\"\n",
    "    search for the best split\n",
    "    \"\"\"\n",
    "    # child_idx denote the index of observations in left child and right child of the node\n",
    "    idx, split, loss, child_idx = np.inf, np.inf, np.inf, [np.inf, np.inf]\n",
    "    for feature_idx in range(X.shape[1]):\n",
    "        for row_idx in range(X.shape[0]):\n",
    "            left, right = split_feature(X, y, feature_idx, X[row_idx, feature_idx])\n",
    "            cost = squared_loss(y, left, right)\n",
    "            if cost < loss:\n",
    "                idx, split, loss, child_idx = feature_idx, X[row_idx, feature_idx], cost, [left, right]\n",
    "    \n",
    "    return {'feature': idx, 'split': split, 'loss': loss, 'child_idx': child_idx}"
   ]
  },
  {
   "cell_type": "code",
   "execution_count": 3,
   "metadata": {
    "collapsed": true
   },
   "outputs": [],
   "source": [
    "def to_leaf(y):\n",
    "    return np.mean(y)\n",
    "\n",
    "def split(X, y, node, max_depth, min_split_sample, depth):\n",
    "    left, right = node['child_idx']\n",
    "    del node['child_idx']\n",
    "    \n",
    "    # check for no split\n",
    "    if not left or not right:\n",
    "        # node['left'] and node['right'] are the mean of left child and right child of a node\n",
    "        node['left'] = node['right'] = to_leaf(y)\n",
    "        return\n",
    "    \n",
    "    # check for maximum allowed depth\n",
    "    if depth >= max_depth:\n",
    "        node['left'], node['right'] = to_leaf(y[left]), to_leaf(y[right])\n",
    "        return\n",
    "\n",
    "    # split left\n",
    "    if len(left) <= min_split_sample:\n",
    "        node['left'] = to_leaf(y[left])\n",
    "    else:\n",
    "        node['left'] = get_optim_split(X[left, :], y[left])\n",
    "        split(X[left, :], y[left], node['left'], max_depth, min_split_sample, depth + 1)\n",
    "    \n",
    "    # split right\n",
    "    if len(right) <= min_split_sample:\n",
    "        node['right'] = to_leaf(y[right])\n",
    "    else:\n",
    "        node['right'] = get_optim_split(X[right, :], y[right])\n",
    "        split(X[right, :], y[right], node['right'], max_depth, min_split_sample, depth + 1)\n",
    "\n",
    "def build_tree(X, y, max_depth, min_split_sample):\n",
    "    \"\"\"\n",
    "    build the decision from root\n",
    "    \"\"\"\n",
    "    root = get_optim_split(X, y)\n",
    "    split(X, y, root, max_depth, min_split_sample, 1)\n",
    "    return root\n",
    "\n",
    "def print_tree(node, depth = 0):\n",
    "    \"\"\"\n",
    "    visualize the tree\n",
    "    \"\"\"\n",
    "    # check if the node is a dictionary, if it is then it is not a leaf\n",
    "    if isinstance(node, dict):\n",
    "        print('{}[X{} < {}]'.format((depth * '-'), node['feature'], node['split']))\n",
    "        print_tree(node['left'], depth + 1)\n",
    "        print_tree(node['right'], depth + 1)\n",
    "    else:\n",
    "        print('{}[{}]'.format(depth * '-', node))\n",
    "\n",
    "def predict(node, row_idx):\n",
    "    if row_idx[node['feature']] < node['split']:\n",
    "        if isinstance(node['left'], dict):\n",
    "            return predict(node['left'], row_idx)\n",
    "        else:\n",
    "            return node['left']\n",
    "    else:\n",
    "        if isinstance(node['right'], dict):\n",
    "            return predict(node['right'], row_idx)\n",
    "        else:\n",
    "            return node['right']"
   ]
  },
  {
   "cell_type": "code",
   "execution_count": 4,
   "metadata": {
    "collapsed": true
   },
   "outputs": [],
   "source": [
    "os.chdir('C:\\Users\\Bangda\\Desktop')\n",
    "df = pd.read_csv('df.csv')\n",
    "X_train = df.iloc[:, 1:].values\n",
    "y_train = df.iloc[:, 0].values"
   ]
  },
  {
   "cell_type": "code",
   "execution_count": 5,
   "metadata": {},
   "outputs": [
    {
     "name": "stderr",
     "output_type": "stream",
     "text": [
      "C:\\Users\\Bangda\\Anaconda2\\lib\\site-packages\\numpy\\core\\fromnumeric.py:2889: RuntimeWarning: Mean of empty slice.\n",
      "  out=out, **kwargs)\n",
      "C:\\Users\\Bangda\\Anaconda2\\lib\\site-packages\\numpy\\core\\_methods.py:80: RuntimeWarning: invalid value encountered in double_scalars\n",
      "  ret = ret.dtype.type(ret / rcount)\n"
     ]
    },
    {
     "name": "stdout",
     "output_type": "stream",
     "text": [
      "[X0 < 6.812]\n",
      "-[X1 < 1.1742]\n",
      "--[50.0]\n",
      "--[X1 < 2.0869]\n",
      "---[X0 < 4.368]\n",
      "----[25.3]\n",
      "----[X1 < 1.3216]\n",
      "-----[20.85]\n",
      "-----[13.278]\n",
      "---[X0 < 6.549]\n",
      "----[X0 < 6.108]\n",
      "-----[19.7587301587]\n",
      "-----[21.6762711864]\n",
      "----[X1 < 2.6775]\n",
      "-----[14.5]\n",
      "-----[26.6814814815]\n",
      "-[X0 < 7.454]\n",
      "--[X1 < 1.4655]\n",
      "---[10.4]\n",
      "---[X1 < 3.4952]\n",
      "----[X1 < 2.1675]\n",
      "-----[33.84]\n",
      "-----[25.8]\n",
      "----[X0 < 6.951]\n",
      "-----[29.25]\n",
      "-----[33.9583333333]\n",
      "--[X1 < 2.872]\n",
      "---[50.0]\n",
      "---[X0 < 8.069]\n",
      "----[X0 < 7.831]\n",
      "-----[44.325]\n",
      "-----[49.5]\n",
      "----[43.375]\n"
     ]
    }
   ],
   "source": [
    "tree = build_tree(X_train, y_train, 5, 5)\n",
    "print_tree(tree)"
   ]
  },
  {
   "cell_type": "code",
   "execution_count": 6,
   "metadata": {
    "collapsed": true
   },
   "outputs": [],
   "source": [
    "root = build_tree(X_train, y_train, 5, 5)\n",
    "predictions = []\n",
    "for row_idx in range(X_train.shape[0]):\n",
    "    prediction = predict(root, X_train[row_idx, :])\n",
    "    predictions.append(prediction)"
   ]
  },
  {
   "cell_type": "code",
   "execution_count": 7,
   "metadata": {},
   "outputs": [
    {
     "name": "stdout",
     "output_type": "stream",
     "text": [
      "RMSE: 3.5117882709\n"
     ]
    }
   ],
   "source": [
    "print('RMSE: {}'.format(np.sqrt(np.mean((predictions - y_train) ** 2))))"
   ]
  }
 ],
 "metadata": {
  "kernelspec": {
   "display_name": "Python [default]",
   "language": "python",
   "name": "python2"
  },
  "language_info": {
   "codemirror_mode": {
    "name": "ipython",
    "version": 2
   },
   "file_extension": ".py",
   "mimetype": "text/x-python",
   "name": "python",
   "nbconvert_exporter": "python",
   "pygments_lexer": "ipython2",
   "version": "2.7.12"
  }
 },
 "nbformat": 4,
 "nbformat_minor": 2
}
