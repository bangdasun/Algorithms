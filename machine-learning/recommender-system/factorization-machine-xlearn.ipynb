{
 "cells": [
  {
   "cell_type": "markdown",
   "metadata": {},
   "source": [
    "### Factorization Machine Demo use `xlearn`\n",
    "\n",
    "From https://github.com/aksnzhy/xlearn/blob/master/demo/classification/scikit_learn_demo/example_FM_wine.py"
   ]
  },
  {
   "cell_type": "code",
   "execution_count": 1,
   "metadata": {},
   "outputs": [],
   "source": [
    "import numpy as np\n",
    "import pandas as pd\n",
    "import xlearn as xl\n",
    "from sklearn.datasets import load_wine\n",
    "from sklearn.preprocessing import StandardScaler\n",
    "from sklearn.model_selection import train_test_split\n",
    "from sklearn.linear_model import LogisticRegression\n",
    "from sklearn.metrics import roc_auc_score"
   ]
  },
  {
   "cell_type": "markdown",
   "metadata": {},
   "source": [
    "Load data"
   ]
  },
  {
   "cell_type": "code",
   "execution_count": 2,
   "metadata": {},
   "outputs": [],
   "source": [
    "wine_data = load_wine()\n",
    "X = wine_data['data']\n",
    "y = (wine_data['target'] == 1).astype(int)"
   ]
  },
  {
   "cell_type": "code",
   "execution_count": 3,
   "metadata": {},
   "outputs": [
    {
     "name": "stdout",
     "output_type": "stream",
     "text": [
      "Wine Data Database\n",
      "====================\n",
      "\n",
      "Notes\n",
      "-----\n",
      "Data Set Characteristics:\n",
      "    :Number of Instances: 178 (50 in each of three classes)\n",
      "    :Number of Attributes: 13 numeric, predictive attributes and the class\n",
      "    :Attribute Information:\n",
      " \t\t- 1) Alcohol\n",
      " \t\t- 2) Malic acid\n",
      " \t\t- 3) Ash\n",
      "\t\t- 4) Alcalinity of ash  \n",
      " \t\t- 5) Magnesium\n",
      "\t\t- 6) Total phenols\n",
      " \t\t- 7) Flavanoids\n",
      " \t\t- 8) Nonflavanoid phenols\n",
      " \t\t- 9) Proanthocyanins\n",
      "\t\t- 10)Color intensity\n",
      " \t\t- 11)Hue\n",
      " \t\t- 12)OD280/OD315 of diluted wines\n",
      " \t\t- 13)Proline\n",
      "        \t- class:\n",
      "                - class_0\n",
      "                - class_1\n",
      "                - class_2\n",
      "\t\t\n",
      "    :Summary Statistics:\n",
      "    \n",
      "    ============================= ==== ===== ======= =====\n",
      "                                   Min   Max   Mean     SD\n",
      "    ============================= ==== ===== ======= =====\n",
      "    Alcohol:                      11.0  14.8    13.0   0.8\n",
      "    Malic Acid:                   0.74  5.80    2.34  1.12\n",
      "    Ash:                          1.36  3.23    2.36  0.27\n",
      "    Alcalinity of Ash:            10.6  30.0    19.5   3.3\n",
      "    Magnesium:                    70.0 162.0    99.7  14.3\n",
      "    Total Phenols:                0.98  3.88    2.29  0.63\n",
      "    Flavanoids:                   0.34  5.08    2.03  1.00\n",
      "    Nonflavanoid Phenols:         0.13  0.66    0.36  0.12\n",
      "    Proanthocyanins:              0.41  3.58    1.59  0.57\n",
      "    Colour Intensity:              1.3  13.0     5.1   2.3\n",
      "    Hue:                          0.48  1.71    0.96  0.23\n",
      "    OD280/OD315 of diluted wines: 1.27  4.00    2.61  0.71\n",
      "    Proline:                       278  1680     746   315\n",
      "    ============================= ==== ===== ======= =====\n",
      "\n",
      "    :Missing Attribute Values: None\n",
      "    :Class Distribution: class_0 (59), class_1 (71), class_2 (48)\n",
      "    :Creator: R.A. Fisher\n",
      "    :Donor: Michael Marshall (MARSHALL%PLU@io.arc.nasa.gov)\n",
      "    :Date: July, 1988\n",
      "\n",
      "This is a copy of UCI ML Wine recognition datasets.\n",
      "https://archive.ics.uci.edu/ml/machine-learning-databases/wine/wine.data\n",
      "\n",
      "The data is the results of a chemical analysis of wines grown in the same\n",
      "region in Italy by three different cultivators. There are thirteen different\n",
      "measurements taken for different constituents found in the three types of\n",
      "wine.\n",
      "\n",
      "Original Owners: \n",
      "\n",
      "Forina, M. et al, PARVUS - \n",
      "An Extendible Package for Data Exploration, Classification and Correlation. \n",
      "Institute of Pharmaceutical and Food Analysis and Technologies,\n",
      "Via Brigata Salerno, 16147 Genoa, Italy.\n",
      "\n",
      "Citation:\n",
      "\n",
      "Lichman, M. (2013). UCI Machine Learning Repository\n",
      "[http://archive.ics.uci.edu/ml]. Irvine, CA: University of California,\n",
      "School of Information and Computer Science. \n",
      "\n",
      "References\n",
      "----------\n",
      "(1) \n",
      "S. Aeberhard, D. Coomans and O. de Vel, \n",
      "Comparison of Classifiers in High Dimensional Settings, \n",
      "Tech. Rep. no. 92-02, (1992), Dept. of Computer Science and Dept. of \n",
      "Mathematics and Statistics, James Cook University of North Queensland. \n",
      "(Also submitted to Technometrics). \n",
      "\n",
      "The data was used with many others for comparing various \n",
      "classifiers. The classes are separable, though only RDA \n",
      "has achieved 100% correct classification. \n",
      "(RDA : 100%, QDA 99.4%, LDA 98.9%, 1NN 96.1% (z-transformed data)) \n",
      "(All results using the leave-one-out technique) \n",
      "\n",
      "(2) \n",
      "S. Aeberhard, D. Coomans and O. de Vel, \n",
      "\"THE CLASSIFICATION PERFORMANCE OF RDA\" \n",
      "Tech. Rep. no. 92-01, (1992), Dept. of Computer Science and Dept. of \n",
      "Mathematics and Statistics, James Cook University of North Queensland. \n",
      "(Also submitted to Journal of Chemometrics). \n",
      "\n"
     ]
    }
   ],
   "source": [
    "print(wine_data.DESCR)"
   ]
  },
  {
   "cell_type": "code",
   "execution_count": 4,
   "metadata": {},
   "outputs": [
    {
     "name": "stdout",
     "output_type": "stream",
     "text": [
      "(142, 13) (36, 13)\n"
     ]
    }
   ],
   "source": [
    "X_train, X_val, y_train, y_val = train_test_split(X, y, test_size=.2, random_state=42)\n",
    "print(X_train.shape, X_val.shape)"
   ]
  },
  {
   "cell_type": "markdown",
   "metadata": {},
   "source": [
    "#### Factorization Machine"
   ]
  },
  {
   "cell_type": "code",
   "execution_count": 5,
   "metadata": {},
   "outputs": [],
   "source": [
    "fm_params = {\n",
    "    'task'      : 'binary',  # binary classification\n",
    "    'init'      : 0.1,       # model scale\n",
    "    'epoch'     : 20,        # epochs\n",
    "    'k'         : 5,         # number of latent factor\n",
    "    'lr'        : 0.05,      # learning rate\n",
    "    'opt'       : 'sgd',     # optimization algorithm\n",
    "    'metric'    : 'auc'      # metrics\n",
    "}\n",
    "fm_clf = xl.FMModel(**fm_params)\n",
    "fm_clf.fit(X_train, y_train, eval_set=[X_val, y_val])"
   ]
  },
  {
   "cell_type": "markdown",
   "metadata": {},
   "source": [
    "Here the FM model is \n",
    "\n",
    "\\\\[\n",
    "y = w_0 + \\sum^{13}_{i=1}w_i x_i + \\sum_{j > i} \\langle v_i,v_j \\rangle x_i x_j,\n",
    "\\\\]\n",
    "\n",
    "where each \\\\(x_i\\\\) corresponding one \\\\(v_i\\\\) - a vector with length 4.\n"
   ]
  },
  {
   "cell_type": "code",
   "execution_count": 6,
   "metadata": {},
   "outputs": [
    {
     "name": "stdout",
     "output_type": "stream",
     "text": [
      "Raw 13 features weights (with intercept):\n",
      "[-0.386988    0.0178063   0.00099325  0.00332839  0.0370448   0.138444\n",
      "  0.00435295  0.00519787  0.00053309  0.00321714 -0.00539737  0.00251978\n",
      "  0.00642384 -0.102563  ]\n",
      "\n",
      "13 features latent vectors (13 x 4):\n",
      "[[1.80238e-08 6.65773e-05 4.70837e-04 6.98098e-04 6.95968e-04]\n",
      " [1.30372e-04 3.53939e-04 2.73548e-04 1.80693e-04 5.08456e-04]\n",
      " [6.21657e-05 3.89033e-04 4.04194e-04 5.62013e-04 4.02764e-04]\n",
      " [3.29510e-04 5.64495e-04 6.40769e-04 4.67633e-04 6.28706e-04]\n",
      " [1.92278e-04 2.75728e-04 5.82131e-04 4.22603e-04 5.80532e-04]\n",
      " [6.19164e-04 1.06064e-04 5.52488e-04 5.83949e-04 1.90285e-04]\n",
      " [5.99864e-04 2.65669e-04 1.97633e-04 3.29899e-04 2.49576e-04]\n",
      " [5.00978e-04 4.37138e-04 3.45245e-04 3.75778e-04 5.93917e-05]\n",
      " [3.84677e-04 2.72822e-04 3.78407e-04 5.33277e-04 3.10768e-04]\n",
      " [4.87783e-04 4.52295e-05 1.21092e-04 1.41131e-04 4.97492e-04]\n",
      " [5.48885e-05 1.18542e-04 4.03129e-04 3.78580e-04 4.78461e-04]\n",
      " [2.02280e-04 2.82586e-04 2.65291e-04 5.85265e-04 6.38979e-04]\n",
      " [3.73457e-04 1.06089e-04 4.52067e-04 2.16708e-04 2.94974e-04]]\n"
     ]
    }
   ],
   "source": [
    "print('Raw 13 features weights (with intercept):\\n{}\\n'.format(fm_clf.weights[0]))\n",
    "print('13 features latent vectors (13 x 4):\\n{}'.format(fm_clf.weights[1]))"
   ]
  },
  {
   "cell_type": "code",
   "execution_count": 7,
   "metadata": {},
   "outputs": [
    {
     "name": "stdout",
     "output_type": "stream",
     "text": [
      "FM AUC = 0.8701298701298702\n"
     ]
    }
   ],
   "source": [
    "y_val_pred_proba_fm = fm_clf.predict(X_val)\n",
    "print('FM AUC = {}'.format(roc_auc_score(y_val, y_val_pred_proba_fm)))"
   ]
  },
  {
   "cell_type": "markdown",
   "metadata": {},
   "source": [
    "#### Comparison with Logistic Regression"
   ]
  },
  {
   "cell_type": "code",
   "execution_count": 8,
   "metadata": {},
   "outputs": [
    {
     "name": "stdout",
     "output_type": "stream",
     "text": [
      "LR AUC = 0.9935064935064936\n"
     ]
    }
   ],
   "source": [
    "lr_clf = LogisticRegression()\n",
    "lr_clf.fit(X_train, y_train)\n",
    "y_val_pred_lr = lr_clf.predict(X_val)\n",
    "y_val_pred_proba_lr = lr_clf.predict_proba(X_val)[:, 1]\n",
    "print('LR AUC = {}'.format(roc_auc_score(y_val, y_val_pred_proba_lr)))"
   ]
  }
 ],
 "metadata": {
  "kernelspec": {
   "display_name": "Python 3",
   "language": "python",
   "name": "python3"
  },
  "language_info": {
   "codemirror_mode": {
    "name": "ipython",
    "version": 3
   },
   "file_extension": ".py",
   "mimetype": "text/x-python",
   "name": "python",
   "nbconvert_exporter": "python",
   "pygments_lexer": "ipython3",
   "version": "3.6.5"
  }
 },
 "nbformat": 4,
 "nbformat_minor": 2
}
