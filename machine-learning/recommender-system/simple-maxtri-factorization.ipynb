{
 "cells": [
  {
   "cell_type": "markdown",
   "metadata": {},
   "source": [
    "### Simple Maxtrix Factorization\n",
    "\n",
    "- https://www.analyticsvidhya.com/blog/2018/01/factorization-machines/\n",
    "\n",
    "The simplest version of maxtri factorization in recommender system (e.g. movie rating) is just\n",
    "\n",
    "\\\\[\n",
    "R \\approx PQ^\\top,\n",
    "\\\\]\n",
    "\n",
    "where \\\\(R\\\\) is the rating matrix with \\\\(m\\\\) rows and \\\\(n\\\\) columns, each row represents the rating vector for a user to each movie; \\\\(P\\\\) has \\\\(m\\\\) rows and \\\\(k\\\\) columns, each row is a user vector with latent features; \\\\(Q^\\top\\\\) has \\\\(k\\\\) rows and \\\\(n\\\\) columns, each column is a movie vector with latent features."
   ]
  },
  {
   "cell_type": "code",
   "execution_count": 1,
   "metadata": {},
   "outputs": [],
   "source": [
    "import numpy as np\n",
    "import pandas as pd\n",
    "import warnings"
   ]
  },
  {
   "cell_type": "code",
   "execution_count": 2,
   "metadata": {},
   "outputs": [
    {
     "data": {
      "text/html": [
       "<div>\n",
       "<style scoped>\n",
       "    .dataframe tbody tr th:only-of-type {\n",
       "        vertical-align: middle;\n",
       "    }\n",
       "\n",
       "    .dataframe tbody tr th {\n",
       "        vertical-align: top;\n",
       "    }\n",
       "\n",
       "    .dataframe thead th {\n",
       "        text-align: right;\n",
       "    }\n",
       "</style>\n",
       "<table border=\"1\" class=\"dataframe\">\n",
       "  <thead>\n",
       "    <tr style=\"text-align: right;\">\n",
       "      <th></th>\n",
       "      <th>m1</th>\n",
       "      <th>m2</th>\n",
       "      <th>m3</th>\n",
       "      <th>m4</th>\n",
       "    </tr>\n",
       "  </thead>\n",
       "  <tbody>\n",
       "    <tr>\n",
       "      <th>0</th>\n",
       "      <td>5.0</td>\n",
       "      <td>3.0</td>\n",
       "      <td>NaN</td>\n",
       "      <td>1.0</td>\n",
       "    </tr>\n",
       "    <tr>\n",
       "      <th>1</th>\n",
       "      <td>4.0</td>\n",
       "      <td>NaN</td>\n",
       "      <td>NaN</td>\n",
       "      <td>1.0</td>\n",
       "    </tr>\n",
       "    <tr>\n",
       "      <th>2</th>\n",
       "      <td>1.0</td>\n",
       "      <td>1.0</td>\n",
       "      <td>NaN</td>\n",
       "      <td>5.0</td>\n",
       "    </tr>\n",
       "    <tr>\n",
       "      <th>3</th>\n",
       "      <td>1.0</td>\n",
       "      <td>NaN</td>\n",
       "      <td>NaN</td>\n",
       "      <td>4.0</td>\n",
       "    </tr>\n",
       "    <tr>\n",
       "      <th>4</th>\n",
       "      <td>NaN</td>\n",
       "      <td>1.0</td>\n",
       "      <td>5.0</td>\n",
       "      <td>4.0</td>\n",
       "    </tr>\n",
       "  </tbody>\n",
       "</table>\n",
       "</div>"
      ],
      "text/plain": [
       "    m1   m2   m3   m4\n",
       "0  5.0  3.0  NaN  1.0\n",
       "1  4.0  NaN  NaN  1.0\n",
       "2  1.0  1.0  NaN  5.0\n",
       "3  1.0  NaN  NaN  4.0\n",
       "4  NaN  1.0  5.0  4.0"
      ]
     },
     "execution_count": 2,
     "metadata": {},
     "output_type": "execute_result"
    }
   ],
   "source": [
    "data = {'m1': [5., 4., 1., 1., np.nan],\n",
    "        'm2': [3., np.nan, 1., np.nan, 1.],\n",
    "        'm3': [np.nan, np.nan, np.nan, np.nan, 5.],\n",
    "        'm4': [1., 1., 5., 4., 4.]}\n",
    "data = pd.DataFrame(data)\n",
    "data"
   ]
  },
  {
   "cell_type": "markdown",
   "metadata": {},
   "source": [
    "To make the matrix factorization good, we need to reduce the residuals of approximated matrix and raw matrix:\n",
    "\n",
    "\\\\[\n",
    "\\begin{aligned}\n",
    "p_{ik}, q_{kj} &= \\arg\\min_{p_{ik}, q_{kj}} \\sum_{i, j}\\left(r_{ij} - \\hat{r_{ij}}\\right)^2 \\\\\n",
    "               &= \\arg\\min_{p_{ik}, q_{kj}} \\sum_{i, j}\\left(r_{ij} - p_{i}^\\top q_{j}\\right)^2 \\\\\n",
    "               &= \\arg\\min_{p_{ik}, q_{kj}} \\sum_{i, j}\\left(r_{ij} - \\sum_{k=1}^{K}p_{ik}q_{kj}\\right)^2,\n",
    "\\end{aligned}\n",
    "\\\\]\n",
    "\n",
    "the direct way to solve this is **gradient descent**, the gradient for \\\\(p_{ik}\\\\) and \\\\(q_{kj}\\\\) are\n",
    "\n",
    "\\\\[\n",
    "\\begin{aligned}\n",
    "\\frac{\\partial}{\\partial p_{ik}} =& -2\\left(r_{ij} - \\sum^{K}_{k=1}p_{ik}q_{kj}\\right)q_{kj}\\\\\n",
    "\\frac{\\partial}{\\partial q_{kj}} =& -2\\left(r_{ij} - \\sum^{K}_{k=1}p_{ik}q_{kj}\\right)p_{ik}\n",
    "\\end{aligned}\n",
    "\\\\]\n",
    "\n",
    "and then apply the update rule. In practice we can also add regularization on it to prevent overfitting."
   ]
  },
  {
   "cell_type": "code",
   "execution_count": 3,
   "metadata": {},
   "outputs": [],
   "source": [
    "def matrix_factorization(R, K, lr=1e-3, max_iter=5000, tol=1e-6, random_state=42):\n",
    "    \"\"\" Simple matrix factorization\n",
    "    Params\n",
    "    ------\n",
    "    R           : ndarray, rating matrix (m, n), fill 0.0 for NA value\n",
    "    K           : int, latent vector length\n",
    "    lr          : learning rate\n",
    "    max_iter    : max number of iterations\n",
    "    tol         : tolerance\n",
    "    random_state: random seed\n",
    "    \n",
    "    Returns\n",
    "    -------\n",
    "    P           : ndarray, (m, K)\n",
    "    Q^T         : ndarray, (K, n)\n",
    "    \"\"\"\n",
    "    \n",
    "    M, N = R.shape\n",
    "#     np.random.seed(random_state)\n",
    "    P = np.random.rand(M, K)\n",
    "    Q_T = np.random.rand(K, N)\n",
    "    \n",
    "    for it in range(max_iter):\n",
    "        # update for each p_ik, q_kj\n",
    "        for i in range(M):\n",
    "            for j in range(N):\n",
    "                if R[i, j] < 0.0:\n",
    "                    R[i, j] = 0.0\n",
    "                err = R[i, j] - P[i, :].dot(Q_T[:, j])\n",
    "                for k in range(K):\n",
    "                    P[i, k] += 2 * lr * err * Q_T[k, j] \n",
    "                    Q_T[k, j] += 2 * lr * err * P[i, k] \n",
    "        \n",
    "        R_hat = P.dot(Q_T)\n",
    "        if np.sqrt(np.mean((R - R_hat) ** 2))  < tol:\n",
    "            break\n",
    "            \n",
    "    if (it + 1) == max_iter:\n",
    "        warnings.warn('Max iteration reached, increase max_iter.')\n",
    "        \n",
    "    return P, Q_T"
   ]
  },
  {
   "cell_type": "code",
   "execution_count": 4,
   "metadata": {},
   "outputs": [
    {
     "data": {
      "text/plain": [
       "(array([[-0.29884453,  1.95441528,  0.74581923],\n",
       "        [-0.17983489,  1.21057942,  0.6202656 ],\n",
       "        [ 0.69013819,  0.09251781,  1.75027554],\n",
       "        [ 0.51037489, -0.05586902,  1.50002273],\n",
       "        [ 2.24577792,  0.48213285,  0.17997642]]),\n",
       " array([[-0.42852303,  0.24448052,  1.84583415,  1.65561087],\n",
       "        [ 2.12095506,  0.97025234,  0.50324166,  0.19773331],\n",
       "        [ 0.87259485,  0.22845343, -0.4744673 ,  1.95514952]]))"
      ]
     },
     "execution_count": 4,
     "metadata": {},
     "output_type": "execute_result"
    }
   ],
   "source": [
    "R = data.fillna(0).values\n",
    "P, Q_T = matrix_factorization(R, K=3, lr=1e-4, max_iter=10000, tol=.5)\n",
    "P, Q_T"
   ]
  },
  {
   "cell_type": "code",
   "execution_count": 5,
   "metadata": {},
   "outputs": [
    {
     "data": {
      "text/plain": [
       "array([[ 0.07591323,  1.0064007 , -0.07805891, -0.34987087],\n",
       "       [ 0.8141115 , -1.27230319,  0.01702713, -0.15434727],\n",
       "       [-0.42776743,  0.34165258, -0.48999094,  0.41705549],\n",
       "       [ 0.02829097, -0.41325501, -0.20224005,  0.23329622],\n",
       "       [-0.21726104, -0.05795571,  0.69743001, -0.16534888]])"
      ]
     },
     "execution_count": 5,
     "metadata": {},
     "output_type": "execute_result"
    }
   ],
   "source": [
    "R - P.dot(Q_T)"
   ]
  },
  {
   "cell_type": "code",
   "execution_count": 6,
   "metadata": {},
   "outputs": [
    {
     "name": "stdout",
     "output_type": "stream",
     "text": [
      "RMSE = 0.4998854949737238\n"
     ]
    }
   ],
   "source": [
    "print('RMSE = {}'.format(np.sqrt(np.mean((R - P.dot(Q_T)) ** 2))))"
   ]
  }
 ],
 "metadata": {
  "kernelspec": {
   "display_name": "Python 3",
   "language": "python",
   "name": "python3"
  },
  "language_info": {
   "codemirror_mode": {
    "name": "ipython",
    "version": 3
   },
   "file_extension": ".py",
   "mimetype": "text/x-python",
   "name": "python",
   "nbconvert_exporter": "python",
   "pygments_lexer": "ipython3",
   "version": "3.6.5"
  }
 },
 "nbformat": 4,
 "nbformat_minor": 2
}
