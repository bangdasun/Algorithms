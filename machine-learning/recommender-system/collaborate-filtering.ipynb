{
 "cells": [
  {
   "cell_type": "markdown",
   "metadata": {},
   "source": [
    "## Introduction to Collaborative Filtering"
   ]
  },
  {
   "cell_type": "markdown",
   "metadata": {},
   "source": [
    "reference: https://cambridgespark.com/content/tutorials/implementing-your-own-recommender-systems-in-Python/index.html"
   ]
  },
  {
   "cell_type": "code",
   "execution_count": 1,
   "metadata": {
    "collapsed": true
   },
   "outputs": [],
   "source": [
    "import os\n",
    "os.chdir('c:\\\\users\\\\bangda\\\\desktop')"
   ]
  },
  {
   "cell_type": "code",
   "execution_count": 2,
   "metadata": {
    "collapsed": true
   },
   "outputs": [],
   "source": [
    "import numpy as np\n",
    "import pandas as pd"
   ]
  },
  {
   "cell_type": "code",
   "execution_count": 3,
   "metadata": {},
   "outputs": [
    {
     "data": {
      "text/html": [
       "<div>\n",
       "<table border=\"1\" class=\"dataframe\">\n",
       "  <thead>\n",
       "    <tr style=\"text-align: right;\">\n",
       "      <th></th>\n",
       "      <th>user_id</th>\n",
       "      <th>item_id</th>\n",
       "      <th>rating</th>\n",
       "      <th>timestamp</th>\n",
       "    </tr>\n",
       "  </thead>\n",
       "  <tbody>\n",
       "    <tr>\n",
       "      <th>0</th>\n",
       "      <td>196</td>\n",
       "      <td>242</td>\n",
       "      <td>3</td>\n",
       "      <td>881250949</td>\n",
       "    </tr>\n",
       "    <tr>\n",
       "      <th>1</th>\n",
       "      <td>186</td>\n",
       "      <td>302</td>\n",
       "      <td>3</td>\n",
       "      <td>891717742</td>\n",
       "    </tr>\n",
       "    <tr>\n",
       "      <th>2</th>\n",
       "      <td>22</td>\n",
       "      <td>377</td>\n",
       "      <td>1</td>\n",
       "      <td>878887116</td>\n",
       "    </tr>\n",
       "    <tr>\n",
       "      <th>3</th>\n",
       "      <td>244</td>\n",
       "      <td>51</td>\n",
       "      <td>2</td>\n",
       "      <td>880606923</td>\n",
       "    </tr>\n",
       "    <tr>\n",
       "      <th>4</th>\n",
       "      <td>166</td>\n",
       "      <td>346</td>\n",
       "      <td>1</td>\n",
       "      <td>886397596</td>\n",
       "    </tr>\n",
       "  </tbody>\n",
       "</table>\n",
       "</div>"
      ],
      "text/plain": [
       "   user_id  item_id  rating  timestamp\n",
       "0      196      242       3  881250949\n",
       "1      186      302       3  891717742\n",
       "2       22      377       1  878887116\n",
       "3      244       51       2  880606923\n",
       "4      166      346       1  886397596"
      ]
     },
     "execution_count": 3,
     "metadata": {},
     "output_type": "execute_result"
    }
   ],
   "source": [
    "columns = ['user_id', 'item_id', 'rating', 'timestamp']\n",
    "data = pd.read_csv('ml-100k/u.data', sep = '\\t', names = columns)\n",
    "data.head()"
   ]
  },
  {
   "cell_type": "code",
   "execution_count": 4,
   "metadata": {},
   "outputs": [
    {
     "name": "stdout",
     "output_type": "stream",
     "text": [
      "Shape of raw data: (100000, 4)\n",
      "Number of users: 943\n",
      "Number of items: 1682\n"
     ]
    }
   ],
   "source": [
    "print('Shape of raw data: {}'.format(data.shape))\n",
    "print('Number of users: {}'.format(data.user_id.unique().shape[0]))\n",
    "print('Number of items: {}'.format(data.item_id.unique().shape[0]))"
   ]
  },
  {
   "cell_type": "code",
   "execution_count": 5,
   "metadata": {},
   "outputs": [
    {
     "data": {
      "text/plain": [
       "((75000, 4), (25000, 4))"
      ]
     },
     "execution_count": 5,
     "metadata": {},
     "output_type": "execute_result"
    }
   ],
   "source": [
    "from sklearn.model_selection import train_test_split\n",
    "train, test = train_test_split(data, test_size = 0.25)\n",
    "train.shape, test.shape"
   ]
  },
  {
   "cell_type": "markdown",
   "metadata": {},
   "source": [
    "### 1. Memory-Based Collaborative Filtering\n",
    "\n",
    "Two implementations: user-item filtering (find the similar users), item-item filtering (find similar items)\n",
    "\n",
    "Create a user-item matrix: 943 `x` 1682 here, fill in ratings. Then calculate the similarity and create a similarity matrix. For user-item CF, the similarity values between users are measured by observing all the items that are rated by both users; for item-item CF, the similarity between items are measured by observing all users who have rated both items\n",
    "\n",
    "Drawbacks: it doesn't scale to real-world scenarios and cannot address the cold-start problem: when new users or new items enter the system. Model-based CF also has this drawback."
   ]
  },
  {
   "cell_type": "code",
   "execution_count": 6,
   "metadata": {
    "collapsed": true
   },
   "outputs": [],
   "source": [
    "num_users = data.user_id.unique().shape[0]\n",
    "num_items = data.item_id.unique().shape[0]\n",
    "train_user_item_matrix = np.zeros((num_users, num_items))\n",
    "for row in train.itertuples():\n",
    "    train_user_item_matrix[row[1] - 1, row[2] - 1] = row[3]\n",
    "    \n",
    "test_user_item_matrix = np.zeros((num_users, num_items))\n",
    "for row in test.itertuples():\n",
    "    test_user_item_matrix[row[1] - 1, row[2] - 1] = row[3]"
   ]
  },
  {
   "cell_type": "code",
   "execution_count": 7,
   "metadata": {
    "collapsed": true
   },
   "outputs": [],
   "source": [
    "from sklearn.metrics.pairwise import pairwise_distances\n",
    "user_similarity = pairwise_distances(train_user_item_matrix, metric = 'cosine')\n",
    "item_similarity = pairwise_distances(train_user_item_matrix.T, metric = 'cosine')"
   ]
  },
  {
   "cell_type": "code",
   "execution_count": 8,
   "metadata": {
    "collapsed": true
   },
   "outputs": [],
   "source": [
    "def predict(ratings, similarity, type = 'user'):\n",
    "    if type == 'user':\n",
    "        user_rating_mean = np.mean(ratings, axis = 1)\n",
    "        ratings_diff = ratings - user_rating_mean[:, np.newaxis]\n",
    "        prediction = user_rating_mean[:, np.newaxis] + np.dot(similarity, ratings_diff) / np.array([np.abs(similarity).sum(axis = 1)]).T\n",
    "    elif type == 'item':\n",
    "        prediction = np.dot(ratings, similarity) / np.array([np.abs(similarity).sum(axis = 1)])\n",
    "    \n",
    "    return prediction"
   ]
  },
  {
   "cell_type": "code",
   "execution_count": 9,
   "metadata": {
    "collapsed": true
   },
   "outputs": [],
   "source": [
    "user_pred = predict(train_user_item_matrix, user_similarity, type = 'user')\n",
    "item_pred = predict(train_user_item_matrix, item_similarity, type = 'item')"
   ]
  },
  {
   "cell_type": "code",
   "execution_count": 10,
   "metadata": {
    "collapsed": true
   },
   "outputs": [],
   "source": [
    "from sklearn.metrics import mean_squared_error\n",
    "def rmse(prediction, actual):\n",
    "    prediction = prediction[actual.nonzero()].flatten()\n",
    "    actual = actual[actual.nonzero()].flatten()\n",
    "    return np.sqrt(mean_squared_error(prediction, actual))"
   ]
  },
  {
   "cell_type": "code",
   "execution_count": 11,
   "metadata": {},
   "outputs": [
    {
     "name": "stdout",
     "output_type": "stream",
     "text": [
      "User-based CF RMSE: 3.1273906568\n",
      "Item-based CF RMSE: 3.4538528082\n"
     ]
    }
   ],
   "source": [
    "print('User-based CF RMSE: {}'.format(rmse(user_pred, test_user_item_matrix)))\n",
    "print('Item-based CF RMSE: {}'.format(rmse(item_pred, test_user_item_matrix)))"
   ]
  },
  {
   "cell_type": "markdown",
   "metadata": {},
   "source": [
    "### 2. Model-Based Collaborative Filtering\n",
    "\n",
    "Based on matrix factorization, mainly as an unsupervised learning method for latent variable decomposition and dimension reduction. Matrix factorization is widely used for recommender systems where it can deal better with scalability and sparsity than memory-based CF. The goal is to learn the latent preferences of users and the latent attributes of items from ratings to predict the unknow rating through the dot product of latent features of users and items.\n",
    "\n",
    "When you factorize matrix, represent the multiplication of two low rank matrices, where the rows contain the latent vector (For example, age, location, gender). Fit this matrix to approximate the original matrix as closely as possible. \n",
    "\n",
    "Models that use both ratings and content features are called Hybrid Recommender Systems where both CF and Content-based Models are combined.\n",
    "\n",
    "One of the well-know matrix factorization method is SVD. CF can be formulated by approximating a matrix by using SVD. $X=USV^\\top$, where $U$ is an $m\\times r$ orthogonal matrix; $S$ is an $r\\times r$ diagonal matrix with non-negative diagonal elements, known as singular values; $V^\\top$ is an $t\\times n$ orthogonal matrix.\n",
    "\n",
    "$U$ represents the feature vectors corresponding to the users in the hidden feature space and $V$ represents the feature vectors corresponding to the items in the hidden feature space. And you can make a prediction by: $\\hat{X} = USV^\\top$"
   ]
  },
  {
   "cell_type": "code",
   "execution_count": 12,
   "metadata": {},
   "outputs": [
    {
     "name": "stdout",
     "output_type": "stream",
     "text": [
      "The sparsity of the matrix is 0.936953306358\n"
     ]
    }
   ],
   "source": [
    "sparsity = 1. - data.shape[0] / np.float(num_users * num_items)\n",
    "print('The sparsity of the matrix is {}'.format(sparsity))"
   ]
  },
  {
   "cell_type": "code",
   "execution_count": 13,
   "metadata": {
    "collapsed": true
   },
   "outputs": [],
   "source": [
    "from scipy.sparse.linalg import svds\n",
    "u, s, vT = svds(train_user_item_matrix, k = 20)\n",
    "s_diag_matrix = np.diag(s)\n",
    "X_pred = np.dot(np.dot(u, s_diag_matrix), vT)"
   ]
  },
  {
   "cell_type": "code",
   "execution_count": 14,
   "metadata": {},
   "outputs": [
    {
     "name": "stdout",
     "output_type": "stream",
     "text": [
      "User-based CF RMSE 2.71155698102\n"
     ]
    }
   ],
   "source": [
    "print('User-based CF RMSE {}'.format(rmse(X_pred, test_user_item_matrix)))"
   ]
  }
 ],
 "metadata": {
  "kernelspec": {
   "display_name": "Python [default]",
   "language": "python",
   "name": "python2"
  },
  "language_info": {
   "codemirror_mode": {
    "name": "ipython",
    "version": 2
   },
   "file_extension": ".py",
   "mimetype": "text/x-python",
   "name": "python",
   "nbconvert_exporter": "python",
   "pygments_lexer": "ipython2",
   "version": "2.7.12"
  }
 },
 "nbformat": 4,
 "nbformat_minor": 2
}
