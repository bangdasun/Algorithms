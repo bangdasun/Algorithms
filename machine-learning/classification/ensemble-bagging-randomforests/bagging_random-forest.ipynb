{
 "cells": [
  {
   "cell_type": "markdown",
   "metadata": {},
   "source": [
    "## Bagging and Random Forests Implementation"
   ]
  },
  {
   "cell_type": "code",
   "execution_count": 1,
   "metadata": {
    "collapsed": true
   },
   "outputs": [],
   "source": [
    "import os\n",
    "os.chdir('C:\\\\Users\\\\Bangda\\\\Desktop')\n",
    "import numpy as np\n",
    "import pandas as pd\n",
    "import matplotlib as mpl\n",
    "import matplotlib.pyplot as plt\n",
    "%matplotlib inline"
   ]
  },
  {
   "cell_type": "markdown",
   "metadata": {},
   "source": [
    "### Bootstrap\n",
    "\n",
    "* Example: using bootstrap to estimate the mean and variance of a standard random normal sample"
   ]
  },
  {
   "cell_type": "code",
   "execution_count": 2,
   "metadata": {},
   "outputs": [
    {
     "name": "stdout",
     "output_type": "stream",
     "text": [
      "Mean:-0.175673121371\n",
      "Variance:0.815885946342\n",
      "\n"
     ]
    }
   ],
   "source": [
    "X = np.random.randn(100)\n",
    "print(\"Mean:{}\\nVariance:{}\\n\".format(np.mean(X), np.var(X)))"
   ]
  },
  {
   "cell_type": "code",
   "execution_count": 3,
   "metadata": {},
   "outputs": [
    {
     "data": {
      "image/png": "[encoded data removed]",
      "text/plain": [
       "<matplotlib.figure.Figure at 0x5797f60>"
      ]
     },
     "metadata": {},
     "output_type": "display_data"
    }
   ],
   "source": [
    "B = 100\n",
    "bootstrap_sample = np.zeros((100, 100))\n",
    "for i in xrange(B):\n",
    "    sample_idx = np.random.choice(X.shape[0], size = X.shape[0], replace = True)\n",
    "    bootstrap_sample[i, :] = X[sample_idx]\n",
    "\n",
    "sample_mean = np.mean(bootstrap_sample, axis = 1)\n",
    "sample_var  = np.var(bootstrap_sample, axis = 1)\n",
    "\n",
    "mpl.rcParams['figure.figsize'] = 12, 5\n",
    "plt.subplot(1, 2, 1)\n",
    "plt.hist(sample_mean, bins = 20, edgeColor = 'k')\n",
    "plt.legend(['Mean'])\n",
    "plt.subplot(1, 2, 2)\n",
    "plt.hist(sample_var, bins = 20, edgeColor = 'k')\n",
    "plt.legend(['Variance'])\n",
    "plt.show()"
   ]
  },
  {
   "cell_type": "markdown",
   "metadata": {},
   "source": [
    "### Bagging\n",
    "\n",
    "Here I use the decision tree from `sklearn` rather than the class I defined myself just because the self defined decision tree is still need to update and maintenance, the function is still limited. I hope that I could implement later using my own decision tree class. Also in this example I won't split the data into train and test sets, since I just focus on the comparison of single classifier algorithm and ensemble algorithm."
   ]
  },
  {
   "cell_type": "code",
   "execution_count": 4,
   "metadata": {
    "collapsed": true
   },
   "outputs": [],
   "source": [
    "from sklearn.tree import DecisionTreeClassifier\n",
    "from sklearn.metrics import confusion_matrix\n",
    "from sklearn import datasets\n",
    "from sklearn.base import clone\n",
    "from scipy.stats import mode"
   ]
  },
  {
   "cell_type": "code",
   "execution_count": 5,
   "metadata": {},
   "outputs": [],
   "source": [
    "iris = datasets.load_iris()\n",
    "X = iris.data\n",
    "y = iris.target"
   ]
  },
  {
   "cell_type": "code",
   "execution_count": 6,
   "metadata": {},
   "outputs": [
    {
     "data": {
      "text/plain": [
       "array([[50,  0,  0],\n",
       "       [ 0, 49,  1],\n",
       "       [ 0,  1, 49]])"
      ]
     },
     "execution_count": 6,
     "metadata": {},
     "output_type": "execute_result"
    }
   ],
   "source": [
    "single_clf = DecisionTreeClassifier(max_depth = 5, max_features = 4, min_samples_split = 5)\n",
    "single_clf.fit(X, y)\n",
    "y_pred = single_clf.predict(X)\n",
    "confusion_matrix(y, y_pred)"
   ]
  },
  {
   "cell_type": "code",
   "execution_count": 7,
   "metadata": {
    "collapsed": true
   },
   "outputs": [],
   "source": [
    "class BaggingClassifier:\n",
    "    def __init__(self, B = 100, n_estimator = 50, max_depth = 3, min_samples_split = 5):\n",
    "        self.B = B\n",
    "        self.n_estimator = n_estimator\n",
    "        self.max_depth = max_depth\n",
    "        self.min_samples_split = min_samples_split\n",
    "        self.all_trees = []\n",
    "    \n",
    "    def fit(self, X, y):\n",
    "        bootstrap_sample_X = np.zeros((X.shape[0], X.shape[1], B))\n",
    "        bootstrap_sample_y = np.zeros((len(y), B))\n",
    "        for b in range(self.B):\n",
    "            sample_idx = np.random.choice(X.shape[0], size = X.shape[0], replace = True)\n",
    "            bootstrap_sample_X[:, :, b] = X[sample_idx, :]\n",
    "            bootstrap_sample_y[:, b] = y[sample_idx]\n",
    "            clf = DecisionTreeClassifier(max_depth = self.max_depth, max_features = X.shape[1], min_samples_split = self.min_samples_split)\n",
    "            self.all_trees.append(clone(clf))\n",
    "            self.all_trees[b].fit(bootstrap_sample_X[:, :, b], bootstrap_sample_y[:, b])\n",
    "\n",
    "    def predict(self, X):\n",
    "        predicts = np.zeros((X.shape[0], self.B))\n",
    "        for i in range(self.B):\n",
    "            predicts[:, i] = self.all_trees[i].predict(X)\n",
    "        \n",
    "        return mode(predicts, axis = 1)[0]"
   ]
  },
  {
   "cell_type": "code",
   "execution_count": 8,
   "metadata": {},
   "outputs": [
    {
     "data": {
      "text/plain": [
       "array([[50,  0,  0],\n",
       "       [ 0, 47,  3],\n",
       "       [ 0,  1, 49]])"
      ]
     },
     "execution_count": 8,
     "metadata": {},
     "output_type": "execute_result"
    }
   ],
   "source": [
    "bg_clf = BaggingClassifier()\n",
    "bg_clf.fit(X, y)\n",
    "y_pred = bg_clf.predict(X)\n",
    "confusion_matrix(y, y_pred)"
   ]
  },
  {
   "cell_type": "markdown",
   "metadata": {},
   "source": [
    "### Random Forests\n",
    "\n",
    "Random forests can decorrelate the trees which makes an improvement over bagging. When building the decision trees, each time a split in a tree is considered, a random sample of $m$ predictors is chosen as split candidates from the full set of $p$ predictors."
   ]
  },
  {
   "cell_type": "markdown",
   "metadata": {},
   "source": [
    "#### First attempt: sample predictors for one tree rather than one split"
   ]
  },
  {
   "cell_type": "code",
   "execution_count": 9,
   "metadata": {},
   "outputs": [],
   "source": [
    "class RandomForestsClassifier:\n",
    "    def __init__(self, max_features, B = 100, n_estimator = 50, max_depth = 3, min_samples_split = 5):\n",
    "        self.B = B\n",
    "        self.n_estimator = n_estimator\n",
    "        self.max_depth = max_depth\n",
    "        self.min_samples_split = min_samples_split\n",
    "        self.all_trees = []\n",
    "        self.max_features = max_features\n",
    "        self.feature_indices = []\n",
    "    \n",
    "    def fit(self, X, y):\n",
    "        bootstrap_sample_X = np.zeros((X.shape[0], self.max_features, B))\n",
    "        bootstrap_sample_y = np.zeros((len(y), B))\n",
    "        for b in range(self.B):\n",
    "            feature_idx = np.random.choice(X.shape[1], size = self.max_features, replace = False)\n",
    "            self.feature_indices.append(feature_idx)\n",
    "            sample_idx  = np.random.choice(X.shape[0], size = X.shape[0], replace = True)\n",
    "            bootstrap_sample_X[:, :, b] = X[:, feature_idx][sample_idx]\n",
    "            bootstrap_sample_y[:, b] = y[sample_idx]\n",
    "            clf = DecisionTreeClassifier(max_depth = self.max_depth, max_features = self.max_features, min_samples_split = self.min_samples_split)\n",
    "            self.all_trees.append(clone(clf))\n",
    "            self.all_trees[b].fit(bootstrap_sample_X[:, :, b], bootstrap_sample_y[:, b])\n",
    "\n",
    "    def predict(self, X):\n",
    "        predicts = np.zeros((X.shape[0], self.B))\n",
    "        for i in range(self.B):\n",
    "            predicts[:, i] = self.all_trees[i].predict(X[:, self.feature_indices[i]])\n",
    "        \n",
    "        return mode(predicts, axis = 1)[0]"
   ]
  },
  {
   "cell_type": "code",
   "execution_count": 10,
   "metadata": {},
   "outputs": [
    {
     "data": {
      "text/plain": [
       "array([[50,  0,  0],\n",
       "       [ 0, 47,  3],\n",
       "       [ 0,  2, 48]])"
      ]
     },
     "execution_count": 10,
     "metadata": {},
     "output_type": "execute_result"
    }
   ],
   "source": [
    "rf_clf = RandomForestsClassifier(max_features = 2)\n",
    "rf_clf.fit(X, y)\n",
    "y_pred = rf_clf.predict(X)\n",
    "confusion_matrix(y, y_pred)"
   ]
  },
  {
   "cell_type": "markdown",
   "metadata": {},
   "source": [
    "### Out of Bag Error\n",
    "\n",
    "* Using LOOCV error to estimate"
   ]
  },
  {
   "cell_type": "code",
   "execution_count": null,
   "metadata": {
    "collapsed": true
   },
   "outputs": [],
   "source": []
  },
  {
   "cell_type": "markdown",
   "metadata": {},
   "source": [
    "### Variable Importance\n",
    "\n",
    "* Calculate the average RSS decreasing due to splits over a given feature"
   ]
  },
  {
   "cell_type": "code",
   "execution_count": null,
   "metadata": {
    "collapsed": true
   },
   "outputs": [],
   "source": []
  }
 ],
 "metadata": {
  "kernelspec": {
   "display_name": "Python [default]",
   "language": "python",
   "name": "python2"
  },
  "language_info": {
   "codemirror_mode": {
    "name": "ipython",
    "version": 2
   },
   "file_extension": ".py",
   "mimetype": "text/x-python",
   "name": "python",
   "nbconvert_exporter": "python",
   "pygments_lexer": "ipython2",
   "version": "2.7.12"
  }
 },
 "nbformat": 4,
 "nbformat_minor": 2
}
